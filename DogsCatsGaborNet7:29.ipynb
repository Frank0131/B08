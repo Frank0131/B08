{
  "nbformat": 4,
  "nbformat_minor": 0,
  "metadata": {
    "colab": {
      "name": "DogsCatsGaborNet.ipynb",
      "provenance": [],
      "toc_visible": true
    },
    "kernelspec": {
      "display_name": "Python 3",
      "name": "python3"
    },
    "language_info": {
      "name": "python"
    },
    "accelerator": "GPU"
  },
  "cells": [
    {
      "cell_type": "markdown",
      "metadata": {
        "id": "NIlw9dweqacc"
      },
      "source": [
        "# 使用GaborNet模型訓練Dogs vs. Cats資料集\n",
        "資料集網站：https://www.kaggle.com/c/dogs-vs-cats\n",
        "\n",
        "程式參考網站：https://www.kaggle.com/reukki/pytorch-cnn-tutorial-with-cats-and-dogs"
      ]
    },
    {
      "cell_type": "markdown",
      "metadata": {
        "id": "itQ4Cq5YkD_8"
      },
      "source": [
        "# 查看 Google Colab GPU\n",
        "GPU種類：NVIDIA Tesla K80、P4、T4、P100 和 V100"
      ]
    },
    {
      "cell_type": "code",
      "metadata": {
        "id": "GUOlQ2oD2CI7",
        "colab": {
          "base_uri": "https://localhost:8080/"
        },
        "outputId": "0ad27c9d-d3c7-4ba0-b2e3-0fba0da02fb1"
      },
      "source": [
        "! /opt/bin/nvidia-smi"
      ],
      "execution_count": 1,
      "outputs": [
        {
          "output_type": "stream",
          "text": [
            "Thu Jul 29 09:57:42 2021       \n",
            "+-----------------------------------------------------------------------------+\n",
            "| NVIDIA-SMI 460.32.03    Driver Version: 460.32.03    CUDA Version: 11.2     |\n",
            "|-------------------------------+----------------------+----------------------+\n",
            "| GPU  Name        Persistence-M| Bus-Id        Disp.A | Volatile Uncorr. ECC |\n",
            "| Fan  Temp  Perf  Pwr:Usage/Cap|         Memory-Usage | GPU-Util  Compute M. |\n",
            "|                               |                      |               MIG M. |\n",
            "|===============================+======================+======================|\n",
            "|   0  Tesla T4            Off  | 00000000:00:04.0 Off |                    0 |\n",
            "| N/A   66C    P8    11W /  70W |      0MiB / 15109MiB |      0%      Default |\n",
            "|                               |                      |                  N/A |\n",
            "+-------------------------------+----------------------+----------------------+\n",
            "                                                                               \n",
            "+-----------------------------------------------------------------------------+\n",
            "| Processes:                                                                  |\n",
            "|  GPU   GI   CI        PID   Type   Process name                  GPU Memory |\n",
            "|        ID   ID                                                   Usage      |\n",
            "|=============================================================================|\n",
            "|  No running processes found                                                 |\n",
            "+-----------------------------------------------------------------------------+\n"
          ],
          "name": "stdout"
        }
      ]
    },
    {
      "cell_type": "markdown",
      "metadata": {
        "id": "kndw97v0kOR9"
      },
      "source": [
        "# 防止Googole Colab斷線\n",
        "每60分鐘自動執行程式碼刷新\n",
        "\n",
        "使用方法：colab頁面按下F12 或 Ctrl+Shift+I (MAC按 Option+Command+I) 在console（控制台）輸入以下程式碼\n",
        "\n",
        "複製以下程式碼貼在瀏覽器console！！不要關閉瀏覽器以免失效"
      ]
    },
    {
      "cell_type": "code",
      "metadata": {
        "id": "Sl1x2ReMXM2Q"
      },
      "source": [
        "\"\"\"\n",
        "function ConnectButton(){\n",
        "    console.log(\"Connect pushed\"); \n",
        "    document.querySelector(\"#connect\").click() \n",
        "}\n",
        "setInterval(ConnectButton,60000);\n",
        "\"\"\""
      ],
      "execution_count": null,
      "outputs": []
    },
    {
      "cell_type": "markdown",
      "metadata": {
        "id": "NmZlKx7slwqN"
      },
      "source": [
        "# 取得資料夾\n"
      ]
    },
    {
      "cell_type": "code",
      "metadata": {
        "colab": {
          "base_uri": "https://localhost:8080/"
        },
        "id": "unmIeB2EYXdf",
        "outputId": "b832ad15-fd5d-4ee0-d077-5e0221d31618"
      },
      "source": [
        "!pwd"
      ],
      "execution_count": 5,
      "outputs": [
        {
          "output_type": "stream",
          "text": [
            "/content/gdrive/MyDrive/ML/GaborNet/sanity_check\n"
          ],
          "name": "stdout"
        }
      ]
    },
    {
      "cell_type": "code",
      "metadata": {
        "colab": {
          "base_uri": "https://localhost:8080/"
        },
        "id": "vQ0VwTr62X0j",
        "outputId": "f9f29814-c1f6-4786-927f-3000c213472a"
      },
      "source": [
        "from google.colab import drive\n",
        "drive.mount('/content/gdrive', force_remount=True)"
      ],
      "execution_count": 3,
      "outputs": [
        {
          "output_type": "stream",
          "text": [
            "Mounted at /content/gdrive\n"
          ],
          "name": "stdout"
        }
      ]
    },
    {
      "cell_type": "code",
      "metadata": {
        "colab": {
          "base_uri": "https://localhost:8080/"
        },
        "id": "BMRPYgXp2l9S",
        "outputId": "74e97b72-63f2-43a8-e8ad-0596eb22cc8f"
      },
      "source": [
        "%cd gdrive/MyDrive/ML/GaborNet/sanity_check"
      ],
      "execution_count": 4,
      "outputs": [
        {
          "output_type": "stream",
          "text": [
            "/content/gdrive/MyDrive/ML/GaborNet/sanity_check\n"
          ],
          "name": "stdout"
        }
      ]
    },
    {
      "cell_type": "markdown",
      "metadata": {
        "id": "e7cVDeWHl9k1"
      },
      "source": [
        "# 安裝套件"
      ]
    },
    {
      "cell_type": "code",
      "metadata": {
        "id": "mGUztsA3L5M2",
        "colab": {
          "base_uri": "https://localhost:8080/"
        },
        "outputId": "32d915a1-fc1b-47f3-ef35-179fc537c910"
      },
      "source": [
        "!pip install torchinfo\n",
        "!pip install gabornet"
      ],
      "execution_count": 6,
      "outputs": [
        {
          "output_type": "stream",
          "text": [
            "Collecting torchinfo\n",
            "  Downloading torchinfo-1.5.2-py3-none-any.whl (18 kB)\n",
            "Installing collected packages: torchinfo\n",
            "Successfully installed torchinfo-1.5.2\n",
            "Collecting gabornet\n",
            "  Downloading GaborNet-0.2.0-py3-none-any.whl (5.3 kB)\n",
            "Requirement already satisfied: torch<2.0.0,>=1.6.0 in /usr/local/lib/python3.7/dist-packages (from gabornet) (1.9.0+cu102)\n",
            "Collecting torchvision<0.8.0,>=0.7.0\n",
            "  Downloading torchvision-0.7.0-cp37-cp37m-manylinux1_x86_64.whl (5.9 MB)\n",
            "\u001b[K     |████████████████████████████████| 5.9 MB 6.9 MB/s \n",
            "\u001b[?25hRequirement already satisfied: numpy<2.0.0,>=1.19.1 in /usr/local/lib/python3.7/dist-packages (from gabornet) (1.19.5)\n",
            "Requirement already satisfied: typing-extensions in /usr/local/lib/python3.7/dist-packages (from torch<2.0.0,>=1.6.0->gabornet) (3.7.4.3)\n",
            "Requirement already satisfied: pillow>=4.1.1 in /usr/local/lib/python3.7/dist-packages (from torchvision<0.8.0,>=0.7.0->gabornet) (7.1.2)\n",
            "Collecting torch<2.0.0,>=1.6.0\n",
            "  Downloading torch-1.6.0-cp37-cp37m-manylinux1_x86_64.whl (748.8 MB)\n",
            "\u001b[K     |████████████████████████████████| 748.8 MB 16 kB/s \n",
            "\u001b[?25hRequirement already satisfied: future in /usr/local/lib/python3.7/dist-packages (from torch<2.0.0,>=1.6.0->gabornet) (0.16.0)\n",
            "Installing collected packages: torch, torchvision, gabornet\n",
            "  Attempting uninstall: torch\n",
            "    Found existing installation: torch 1.9.0+cu102\n",
            "    Uninstalling torch-1.9.0+cu102:\n",
            "      Successfully uninstalled torch-1.9.0+cu102\n",
            "  Attempting uninstall: torchvision\n",
            "    Found existing installation: torchvision 0.10.0+cu102\n",
            "    Uninstalling torchvision-0.10.0+cu102:\n",
            "      Successfully uninstalled torchvision-0.10.0+cu102\n",
            "\u001b[31mERROR: pip's dependency resolver does not currently take into account all the packages that are installed. This behaviour is the source of the following dependency conflicts.\n",
            "torchtext 0.10.0 requires torch==1.9.0, but you have torch 1.6.0 which is incompatible.\u001b[0m\n",
            "Successfully installed gabornet-0.2.0 torch-1.6.0 torchvision-0.7.0\n"
          ],
          "name": "stdout"
        }
      ]
    },
    {
      "cell_type": "code",
      "metadata": {
        "id": "50vqdjRj2-jt"
      },
      "source": [
        "import json\n",
        "import os\n",
        "import time\n",
        "from typing import Any\n",
        "\n",
        "import numpy as np\n",
        "import torch\n",
        "import torch.nn as nn\n",
        "import torch.nn.functional as F\n",
        "import torch.optim as optim\n",
        "import yaml\n",
        "import torchvision\n",
        "from torch.utils.data import DataLoader\n",
        "from torchvision import transforms\n",
        "from torchinfo import summary\n",
        "from PIL import Image\n",
        "from matplotlib import pyplot as plt\n",
        "from GaborNet import GaborConv2d\n",
        "from dataset import DogsCatsDataset"
      ],
      "execution_count": 7,
      "outputs": []
    },
    {
      "cell_type": "code",
      "metadata": {
        "id": "d5w6Xw6fMffC",
        "colab": {
          "base_uri": "https://localhost:8080/"
        },
        "outputId": "28ec8af7-7500-4196-9845-47accbb74729"
      },
      "source": [
        "#設定固定初始化種子，確保每次得到同樣測試結果\n",
        "device = 'cuda' if torch.cuda.is_available() else 'cpu'\n",
        "\n",
        "torch.manual_seed(1234)\n",
        "if device =='cuda':\n",
        "    torch.cuda.manual_seed_all(1234)\n",
        "print(device)"
      ],
      "execution_count": 9,
      "outputs": [
        {
          "output_type": "stream",
          "text": [
            "cuda\n"
          ],
          "name": "stdout"
        }
      ]
    },
    {
      "cell_type": "markdown",
      "metadata": {
        "id": "qVg4kz_hngAE"
      },
      "source": [
        "# 準備資料和資料預處理\n"
      ]
    },
    {
      "cell_type": "code",
      "metadata": {
        "id": "L-vOPyxZMsOi"
      },
      "source": [
        "train_dir = '../data/train'\n",
        "test_dir = '../data/val'\n",
        "\n",
        "train_set = os.listdir(train_dir)\n",
        "test_set = os.listdir(test_dir)\n"
      ],
      "execution_count": 12,
      "outputs": []
    },
    {
      "cell_type": "code",
      "metadata": {
        "colab": {
          "base_uri": "https://localhost:8080/"
        },
        "id": "hfX_aNq6NjcZ",
        "outputId": "72203055-450b-4660-8041-7fd581448efd"
      },
      "source": [
        "print(len(train_set))\n",
        "print(len(test_set))"
      ],
      "execution_count": 13,
      "outputs": [
        {
          "output_type": "stream",
          "text": [
            "25000\n",
            "12500\n"
          ],
          "name": "stdout"
        }
      ]
    },
    {
      "cell_type": "code",
      "metadata": {
        "id": "b8NSr5HsN1Pt"
      },
      "source": [
        "import glob\n",
        "\n",
        "train_list = glob.glob(os.path.join(train_dir,'*.jpg'))\n",
        "test_list = glob.glob(os.path.join(test_dir, '*.jpg'))"
      ],
      "execution_count": 14,
      "outputs": []
    },
    {
      "cell_type": "code",
      "metadata": {
        "colab": {
          "base_uri": "https://localhost:8080/"
        },
        "id": "RbFSNfIBVVqJ",
        "outputId": "eec0761b-2fe0-4703-a8c4-aa896a9f6758"
      },
      "source": [
        "print(len(train_list), len(test_list))"
      ],
      "execution_count": 15,
      "outputs": [
        {
          "output_type": "stream",
          "text": [
            "25000 12500\n"
          ],
          "name": "stdout"
        }
      ]
    },
    {
      "cell_type": "code",
      "metadata": {
        "colab": {
          "base_uri": "https://localhost:8080/",
          "height": 242
        },
        "id": "abzcVTYSN8Vv",
        "outputId": "567f4bae-e3b3-414b-cf68-8d818e463128"
      },
      "source": [
        "from PIL import Image\n",
        "random_idx = np.random.randint(1,25000,size=10)\n",
        "\n",
        "fig = plt.figure()\n",
        "i=1\n",
        "for idx in random_idx:\n",
        "    ax = fig.add_subplot(2,5,i)\n",
        "    img = Image.open(train_list[idx])\n",
        "    plt.imshow(img)\n",
        "    i+=1\n",
        "\n",
        "plt.axis('off')\n",
        "plt.show()"
      ],
      "execution_count": 16,
      "outputs": [
        {
          "output_type": "display_data",
          "data": {
            "image/png": "[encoded data removed]",
            "text/plain": [
              "<Figure size 432x288 with 10 Axes>"
            ]
          },
          "metadata": {
            "tags": [],
            "needs_background": "light"
          }
        }
      ]
    },
    {
      "cell_type": "code",
      "metadata": {
        "colab": {
          "base_uri": "https://localhost:8080/"
        },
        "id": "npulJrKLS9fO",
        "outputId": "5f7d7b90-d873-4424-8309-a5b2440b518e"
      },
      "source": [
        "int(test_list[0].split('/')[-1].split('.')[0])"
      ],
      "execution_count": 17,
      "outputs": [
        {
          "output_type": "execute_result",
          "data": {
            "text/plain": [
              "11497"
            ]
          },
          "metadata": {
            "tags": []
          },
          "execution_count": 17
        }
      ]
    },
    {
      "cell_type": "code",
      "metadata": {
        "id": "et3F2uumOAhr"
      },
      "source": [
        "from sklearn.model_selection import train_test_split\n",
        "train_list, val_list = train_test_split(train_list, test_size=0.3)"
      ],
      "execution_count": 18,
      "outputs": []
    },
    {
      "cell_type": "code",
      "metadata": {
        "colab": {
          "base_uri": "https://localhost:8080/"
        },
        "id": "6iFJgdIsPn1X",
        "outputId": "56309075-444f-4f71-821b-fa0a4eaf0386"
      },
      "source": [
        "print(len(train_list), len(test_list))"
      ],
      "execution_count": 19,
      "outputs": [
        {
          "output_type": "stream",
          "text": [
            "17500 12500\n"
          ],
          "name": "stdout"
        }
      ]
    },
    {
      "cell_type": "code",
      "metadata": {
        "id": "sR_Ey4MzOF1z"
      },
      "source": [
        "train_transforms =  transforms.Compose([\n",
        "        transforms.Resize((256, 256)),\n",
        "        transforms.RandomResizedCrop(256),\n",
        "        transforms.RandomHorizontalFlip(),\n",
        "        transforms.ToTensor(),\n",
        "    ])\n",
        "\n",
        "val_transforms = transforms.Compose([\n",
        "        transforms.Resize((256, 256)),\n",
        "        transforms.RandomResizedCrop(256),\n",
        "        transforms.RandomHorizontalFlip(),\n",
        "        transforms.ToTensor(),\n",
        "    ])\n",
        "\n",
        "\n",
        "test_transforms = transforms.Compose([   \n",
        "    transforms.Resize((256, 256)),\n",
        "     transforms.RandomResizedCrop(256),\n",
        "    transforms.RandomHorizontalFlip(),\n",
        "    transforms.ToTensor()\n",
        "    ])"
      ],
      "execution_count": 20,
      "outputs": []
    },
    {
      "cell_type": "markdown",
      "metadata": {
        "id": "zdjW8yR8mgYk"
      },
      "source": [
        "# 建立資料集"
      ]
    },
    {
      "cell_type": "code",
      "metadata": {
        "id": "mr78NhaLOIkv"
      },
      "source": [
        "class dataset(torch.utils.data.Dataset):\n",
        "    def __init__(self,file_list,transform=None):\n",
        "        self.file_list = file_list\n",
        "        self.transform = transform\n",
        "        \n",
        "        \n",
        "    #dataset length\n",
        "    def __len__(self):\n",
        "        self.filelength = len(self.file_list)\n",
        "        return self.filelength\n",
        "    \n",
        "    #load an one of images\n",
        "    def __getitem__(self,idx):\n",
        "        img_path = self.file_list[idx]\n",
        "        img = Image.open(img_path)\n",
        "        img_transformed = self.transform(img)\n",
        "        \n",
        "        label = img_path.split('/')[-1].split('.')[0]\n",
        "        if label == 'dog':\n",
        "            label=1\n",
        "        elif label == 'cat':\n",
        "            label=0\n",
        "            \n",
        "        return img_transformed,label"
      ],
      "execution_count": 21,
      "outputs": []
    },
    {
      "cell_type": "markdown",
      "metadata": {
        "id": "NYNxA5MKo1TR"
      },
      "source": [
        "# 載入資料集"
      ]
    },
    {
      "cell_type": "code",
      "metadata": {
        "id": "CMrot966OLsE"
      },
      "source": [
        "train_data = dataset(train_list, transform=train_transforms)\n",
        "test_data = dataset(test_list, transform=test_transforms)\n",
        "val_data = dataset(val_list, transform=test_transforms)"
      ],
      "execution_count": 22,
      "outputs": []
    },
    {
      "cell_type": "code",
      "metadata": {
        "id": "jIShcBnzONiB"
      },
      "source": [
        "train_loader = DataLoader(dataset = train_data, batch_size=64, shuffle=True )\n",
        "test_loader = DataLoader(dataset = test_data, batch_size=64, shuffle=True)\n",
        "val_loader = DataLoader(dataset = val_data, batch_size=64, shuffle=True)"
      ],
      "execution_count": 23,
      "outputs": []
    },
    {
      "cell_type": "code",
      "metadata": {
        "colab": {
          "base_uri": "https://localhost:8080/"
        },
        "id": "U35brtu5OP27",
        "outputId": "f9e67261-c34f-42b1-e5d6-9b3c79b9eec3"
      },
      "source": [
        "print(len(train_data), len(train_loader))"
      ],
      "execution_count": 24,
      "outputs": [
        {
          "output_type": "stream",
          "text": [
            "17500 274\n"
          ],
          "name": "stdout"
        }
      ]
    },
    {
      "cell_type": "code",
      "metadata": {
        "colab": {
          "base_uri": "https://localhost:8080/"
        },
        "id": "ErfcS5QnOSKz",
        "outputId": "3dae982a-5a1e-417c-a728-3b30f7ba618a"
      },
      "source": [
        "print(len(val_data), len(val_loader))"
      ],
      "execution_count": 25,
      "outputs": [
        {
          "output_type": "stream",
          "text": [
            "7500 118\n"
          ],
          "name": "stdout"
        }
      ]
    },
    {
      "cell_type": "code",
      "metadata": {
        "colab": {
          "base_uri": "https://localhost:8080/"
        },
        "id": "xwdU3XJGOUfi",
        "outputId": "7475bdb5-e7f8-4137-abd1-95787527e60c"
      },
      "source": [
        "train_data[0][0].shape"
      ],
      "execution_count": 26,
      "outputs": [
        {
          "output_type": "execute_result",
          "data": {
            "text/plain": [
              "torch.Size([3, 256, 256])"
            ]
          },
          "metadata": {
            "tags": []
          },
          "execution_count": 26
        }
      ]
    },
    {
      "cell_type": "markdown",
      "metadata": {
        "id": "djqk4xqbpIyw"
      },
      "source": [
        "# 建立訓練模型"
      ]
    },
    {
      "cell_type": "code",
      "metadata": {
        "id": "mtu7U1ktf52q"
      },
      "source": [
        "class GaborNN(nn.Module):\n",
        "\n",
        "    def __init__(self):\n",
        "        super(GaborNN, self).__init__()\n",
        "        self.g1 = GaborConv2d(3, 32, kernel_size=(15, 15), stride=1)\n",
        "        self.c1 = nn.Conv2d(32, 64, kernel_size=(3, 3), stride=1)\n",
        "        self.c2 = nn.Conv2d(64, 128, kernel_size=(3, 3), stride=1)\n",
        "        self.c3 = nn.Conv2d(128, 128, kernel_size=(3, 3), stride=1)\n",
        "        self.c4 = nn.Conv2d(128, 128, kernel_size=(3, 3), stride=1)\n",
        "        self.fc1 = nn.Linear(3200, 128)\n",
        "        self.fc2 = nn.Linear(128, 128)\n",
        "        self.fc3 = nn.Linear(128, 2)\n",
        "\n",
        "    def forward(self, x):\n",
        "        x = F.max_pool2d(F.relu(self.g1(x)), kernel_size=2)\n",
        "        x = nn.Dropout2d()(x)\n",
        "        x = F.max_pool2d(F.relu(self.c1(x)), kernel_size=2)\n",
        "        x = F.max_pool2d(F.relu(self.c2(x)), kernel_size=2)\n",
        "        x = F.max_pool2d(F.relu(self.c3(x)), kernel_size=2)\n",
        "        x = F.max_pool2d(F.relu(self.c4(x)), kernel_size=2)\n",
        "        x = nn.Dropout2d()(x)\n",
        "        x = x.view(-1, 3200)\n",
        "        x = F.relu(self.fc1(x))\n",
        "        x = nn.Dropout2d()(x)\n",
        "        x = self.fc2(x)\n",
        "        x = self.fc3(x)\n",
        "        return x"
      ],
      "execution_count": 27,
      "outputs": []
    },
    {
      "cell_type": "markdown",
      "metadata": {
        "id": "Yk0s8bj9pS1c"
      },
      "source": [
        "# 訓練模型"
      ]
    },
    {
      "cell_type": "code",
      "metadata": {
        "colab": {
          "base_uri": "https://localhost:8080/"
        },
        "id": "OUiSlW67WyuR",
        "outputId": "6c38af10-08d5-49f1-b068-d442e9e7d6cf"
      },
      "source": [
        "model = GaborNN().to(device)\n",
        "model.train()"
      ],
      "execution_count": 28,
      "outputs": [
        {
          "output_type": "execute_result",
          "data": {
            "text/plain": [
              "GaborNN(\n",
              "  (g1): GaborConv2d(\n",
              "    (conv_layer): Conv2d(3, 32, kernel_size=(15, 15), stride=(1, 1), bias=False)\n",
              "  )\n",
              "  (c1): Conv2d(32, 64, kernel_size=(3, 3), stride=(1, 1))\n",
              "  (c2): Conv2d(64, 128, kernel_size=(3, 3), stride=(1, 1))\n",
              "  (c3): Conv2d(128, 128, kernel_size=(3, 3), stride=(1, 1))\n",
              "  (c4): Conv2d(128, 128, kernel_size=(3, 3), stride=(1, 1))\n",
              "  (fc1): Linear(in_features=3200, out_features=128, bias=True)\n",
              "  (fc2): Linear(in_features=128, out_features=128, bias=True)\n",
              "  (fc3): Linear(in_features=128, out_features=2, bias=True)\n",
              ")"
            ]
          },
          "metadata": {
            "tags": []
          },
          "execution_count": 28
        }
      ]
    },
    {
      "cell_type": "code",
      "metadata": {
        "colab": {
          "base_uri": "https://localhost:8080/"
        },
        "id": "1Za8Wrc32NhM",
        "outputId": "67e43581-6b36-4c7e-dc40-1c334a2ee4d1"
      },
      "source": [
        "summary(model, (100 , 3, 256, 256))"
      ],
      "execution_count": 29,
      "outputs": [
        {
          "output_type": "execute_result",
          "data": {
            "text/plain": [
              "==========================================================================================\n",
              "Layer (type:depth-idx)                   Output Shape              Param #\n",
              "==========================================================================================\n",
              "GaborNN                                  --                        --\n",
              "├─GaborConv2d: 1-1                       [100, 32, 242, 242]       --\n",
              "│    └─Conv2d: 2-1                       [100, 32, 242, 242]       21,600\n",
              "├─Conv2d: 1-2                            [100, 64, 119, 119]       18,496\n",
              "├─Conv2d: 1-3                            [100, 128, 57, 57]        73,856\n",
              "├─Conv2d: 1-4                            [100, 128, 26, 26]        147,584\n",
              "├─Conv2d: 1-5                            [100, 128, 11, 11]        147,584\n",
              "├─Linear: 1-6                            [100, 128]                409,728\n",
              "├─Linear: 1-7                            [100, 128]                16,512\n",
              "├─Linear: 1-8                            [100, 2]                  258\n",
              "==========================================================================================\n",
              "Total params: 835,618\n",
              "Trainable params: 835,618\n",
              "Non-trainable params: 0\n",
              "Total mult-adds (G): 188.49\n",
              "==========================================================================================\n",
              "Input size (MB): 78.64\n",
              "Forward/backward pass size (MB): 2638.80\n",
              "Params size (MB): 3.34\n",
              "Estimated Total Size (MB): 2720.78\n",
              "=========================================================================================="
            ]
          },
          "metadata": {
            "tags": []
          },
          "execution_count": 29
        }
      ]
    },
    {
      "cell_type": "code",
      "metadata": {
        "id": "g8jXdo8eW53K"
      },
      "source": [
        "optimizer = optim.Adam(params = model.parameters(),lr=0.001)\n",
        "criterion = nn.CrossEntropyLoss()"
      ],
      "execution_count": 30,
      "outputs": []
    },
    {
      "cell_type": "code",
      "metadata": {
        "id": "WT9MTHBGR45f",
        "colab": {
          "base_uri": "https://localhost:8080/"
        },
        "outputId": "3932a1af-b46e-4d7f-c2e3-387db60f2949"
      },
      "source": [
        "epochs = 40\n",
        "\n",
        "acc_list = []\n",
        "loss_list = []\n",
        "val_acc_list = []\n",
        "val_loss_list = []\n",
        "\n",
        "\n",
        "\n",
        "for epoch in range(epochs):\n",
        "    epoch_loss = 0\n",
        "    epoch_accuracy = 0\n",
        "    \n",
        "    for data, label in train_loader:\n",
        "        data = data.to(device)\n",
        "        label = label.to(device)\n",
        "        \n",
        "        output = model(data)\n",
        "        loss = criterion(output, label)\n",
        "        \n",
        "        optimizer.zero_grad()\n",
        "        loss.backward()\n",
        "        optimizer.step()\n",
        "        \n",
        "        acc = ((output.argmax(dim=1) == label).float().mean())\n",
        "        epoch_accuracy += acc/len(train_loader)\n",
        "        epoch_loss += loss/len(train_loader)\n",
        "        \n",
        "    print('Epoch : {}, train accuracy : {:.4f}, train loss : {:.4f}'.format(epoch+1, epoch_accuracy,epoch_loss))\n",
        "    acc_list.append(float(epoch_accuracy))\n",
        "    loss_list.append(float(epoch_loss))\n",
        "    \n",
        "    \n",
        "    with torch.no_grad():\n",
        "        epoch_val_accuracy=0\n",
        "        epoch_val_loss =0\n",
        "        for data, label in val_loader:\n",
        "            data = data.to(device)\n",
        "            label = label.to(device)\n",
        "            \n",
        "            val_output = model(data)\n",
        "            val_loss = criterion(val_output,label)\n",
        "            \n",
        "            \n",
        "            acc = ((val_output.argmax(dim=1) == label).float().mean())\n",
        "            epoch_val_accuracy += acc/ len(val_loader)\n",
        "            epoch_val_loss += val_loss/ len(val_loader)\n",
        "            \n",
        "        print('Epoch : {}, val_accuracy : {:.4f}, val_loss : {:.4f}'.format(epoch+1, epoch_val_accuracy,epoch_val_loss))\n",
        "        val_acc_list.append(float(epoch_val_accuracy))\n",
        "        val_loss_list.append(float(epoch_val_loss))"
      ],
      "execution_count": 31,
      "outputs": [
        {
          "output_type": "stream",
          "text": [
            "Epoch : 1, train accuracy : 0.5113, train loss : 0.6927\n",
            "Epoch : 1, val_accuracy : 0.5388, val_loss : 0.6940\n",
            "Epoch : 2, train accuracy : 0.5625, train loss : 0.6847\n",
            "Epoch : 2, val_accuracy : 0.5723, val_loss : 0.6823\n",
            "Epoch : 3, train accuracy : 0.5862, train loss : 0.6763\n",
            "Epoch : 3, val_accuracy : 0.6060, val_loss : 0.6642\n",
            "Epoch : 4, train accuracy : 0.6079, train loss : 0.6652\n",
            "Epoch : 4, val_accuracy : 0.6187, val_loss : 0.6561\n",
            "Epoch : 5, train accuracy : 0.6182, train loss : 0.6566\n",
            "Epoch : 5, val_accuracy : 0.6116, val_loss : 0.6606\n",
            "Epoch : 6, train accuracy : 0.6250, train loss : 0.6503\n",
            "Epoch : 6, val_accuracy : 0.6374, val_loss : 0.6441\n",
            "Epoch : 7, train accuracy : 0.6335, train loss : 0.6433\n",
            "Epoch : 7, val_accuracy : 0.6393, val_loss : 0.6496\n",
            "Epoch : 8, train accuracy : 0.6428, train loss : 0.6344\n",
            "Epoch : 8, val_accuracy : 0.6396, val_loss : 0.6357\n",
            "Epoch : 9, train accuracy : 0.6534, train loss : 0.6261\n",
            "Epoch : 9, val_accuracy : 0.6378, val_loss : 0.6405\n",
            "Epoch : 10, train accuracy : 0.6585, train loss : 0.6207\n",
            "Epoch : 10, val_accuracy : 0.6576, val_loss : 0.6184\n",
            "Epoch : 11, train accuracy : 0.6614, train loss : 0.6168\n",
            "Epoch : 11, val_accuracy : 0.6712, val_loss : 0.6131\n",
            "Epoch : 12, train accuracy : 0.6608, train loss : 0.6136\n",
            "Epoch : 12, val_accuracy : 0.6764, val_loss : 0.5978\n",
            "Epoch : 13, train accuracy : 0.6702, train loss : 0.6116\n",
            "Epoch : 13, val_accuracy : 0.6730, val_loss : 0.6030\n",
            "Epoch : 14, train accuracy : 0.6836, train loss : 0.5926\n",
            "Epoch : 14, val_accuracy : 0.6900, val_loss : 0.5933\n",
            "Epoch : 15, train accuracy : 0.6795, train loss : 0.5963\n",
            "Epoch : 15, val_accuracy : 0.6886, val_loss : 0.5856\n",
            "Epoch : 16, train accuracy : 0.6898, train loss : 0.5838\n",
            "Epoch : 16, val_accuracy : 0.6926, val_loss : 0.5787\n",
            "Epoch : 17, train accuracy : 0.6990, train loss : 0.5794\n",
            "Epoch : 17, val_accuracy : 0.6943, val_loss : 0.5848\n",
            "Epoch : 18, train accuracy : 0.6915, train loss : 0.5807\n",
            "Epoch : 18, val_accuracy : 0.7065, val_loss : 0.5661\n",
            "Epoch : 19, train accuracy : 0.6942, train loss : 0.5759\n",
            "Epoch : 19, val_accuracy : 0.7080, val_loss : 0.5655\n",
            "Epoch : 20, train accuracy : 0.7074, train loss : 0.5631\n",
            "Epoch : 20, val_accuracy : 0.7156, val_loss : 0.5534\n",
            "Epoch : 21, train accuracy : 0.7048, train loss : 0.5631\n",
            "Epoch : 21, val_accuracy : 0.6967, val_loss : 0.5796\n",
            "Epoch : 22, train accuracy : 0.7066, train loss : 0.5609\n",
            "Epoch : 22, val_accuracy : 0.7131, val_loss : 0.5506\n",
            "Epoch : 23, train accuracy : 0.7072, train loss : 0.5616\n",
            "Epoch : 23, val_accuracy : 0.6988, val_loss : 0.5732\n",
            "Epoch : 24, train accuracy : 0.7155, train loss : 0.5481\n",
            "Epoch : 24, val_accuracy : 0.7157, val_loss : 0.5511\n",
            "Epoch : 25, train accuracy : 0.7227, train loss : 0.5401\n",
            "Epoch : 25, val_accuracy : 0.7179, val_loss : 0.5559\n",
            "Epoch : 26, train accuracy : 0.7270, train loss : 0.5373\n",
            "Epoch : 26, val_accuracy : 0.7288, val_loss : 0.5353\n",
            "Epoch : 27, train accuracy : 0.7224, train loss : 0.5421\n",
            "Epoch : 27, val_accuracy : 0.7229, val_loss : 0.5427\n",
            "Epoch : 28, train accuracy : 0.7296, train loss : 0.5314\n",
            "Epoch : 28, val_accuracy : 0.7209, val_loss : 0.5517\n",
            "Epoch : 29, train accuracy : 0.7273, train loss : 0.5347\n",
            "Epoch : 29, val_accuracy : 0.7359, val_loss : 0.5303\n",
            "Epoch : 30, train accuracy : 0.7297, train loss : 0.5272\n",
            "Epoch : 30, val_accuracy : 0.7227, val_loss : 0.5474\n",
            "Epoch : 31, train accuracy : 0.7347, train loss : 0.5224\n",
            "Epoch : 31, val_accuracy : 0.7354, val_loss : 0.5229\n",
            "Epoch : 32, train accuracy : 0.7299, train loss : 0.5243\n",
            "Epoch : 32, val_accuracy : 0.7436, val_loss : 0.5043\n",
            "Epoch : 33, train accuracy : 0.7386, train loss : 0.5179\n",
            "Epoch : 33, val_accuracy : 0.7425, val_loss : 0.5147\n",
            "Epoch : 34, train accuracy : 0.7352, train loss : 0.5230\n",
            "Epoch : 34, val_accuracy : 0.7417, val_loss : 0.5184\n",
            "Epoch : 35, train accuracy : 0.7391, train loss : 0.5139\n",
            "Epoch : 35, val_accuracy : 0.7413, val_loss : 0.5150\n",
            "Epoch : 36, train accuracy : 0.7448, train loss : 0.5063\n",
            "Epoch : 36, val_accuracy : 0.7459, val_loss : 0.5089\n",
            "Epoch : 37, train accuracy : 0.7458, train loss : 0.5054\n",
            "Epoch : 37, val_accuracy : 0.7470, val_loss : 0.5089\n",
            "Epoch : 38, train accuracy : 0.7473, train loss : 0.5072\n",
            "Epoch : 38, val_accuracy : 0.7524, val_loss : 0.4962\n",
            "Epoch : 39, train accuracy : 0.7546, train loss : 0.4952\n",
            "Epoch : 39, val_accuracy : 0.7628, val_loss : 0.4832\n",
            "Epoch : 40, train accuracy : 0.7480, train loss : 0.5024\n",
            "Epoch : 40, val_accuracy : 0.7471, val_loss : 0.5023\n"
          ],
          "name": "stdout"
        }
      ]
    },
    {
      "cell_type": "markdown",
      "metadata": {
        "id": "kC843EgGpYV5"
      },
      "source": [
        "# 訓練結果圖"
      ]
    },
    {
      "cell_type": "code",
      "metadata": {
        "colab": {
          "base_uri": "https://localhost:8080/",
          "height": 573
        },
        "id": "n98kMbDqd2_f",
        "outputId": "0d5b339e-0d19-4ba7-c475-35933201dd2e"
      },
      "source": [
        "import matplotlib.pyplot as plt\n",
        "\n",
        "xpt = []\n",
        "x = 0\n",
        "for i in range(40):\n",
        "  x+=1\n",
        "  xpt.append(x)\n",
        "\n",
        "plt.title('Train accuracy and Validation accuracy')\n",
        "plt.xlabel('epoch')\n",
        "plt.ylabel('accuracy')\n",
        "Data_1, = plt.plot(xpt, acc_list, label ='Train')\n",
        "Data_2, = plt.plot(xpt, val_acc_list, label =\"Val\")\n",
        "plt.legend()\n",
        "plt.show()\n",
        "\n",
        "\n",
        "plt.title('Train loss and Validation loss')\n",
        "plt.xlabel('epoch')\n",
        "plt.ylabel('loss')\n",
        "Data_1, = plt.plot(xpt, loss_list, label ='Train')\n",
        "Data_2, = plt.plot(xpt, val_loss_list, label =\"Val\")\n",
        "plt.legend()\n",
        "plt.show()\n",
        "\n",
        "\n"
      ],
      "execution_count": 36,
      "outputs": [
        {
          "output_type": "display_data",
          "data": {
            "image/png": "[encoded data removed]",
            "text/plain": [
              "<Figure size 432x288 with 1 Axes>"
            ]
          },
          "metadata": {
            "tags": [],
            "needs_background": "light"
          }
        },
        {
          "output_type": "display_data",
          "data": {
            "image/png": "[encoded data removed]",
            "text/plain": [
              "<Figure size 432x288 with 1 Axes>"
            ]
          },
          "metadata": {
            "tags": [],
            "needs_background": "light"
          }
        }
      ]
    },
    {
      "cell_type": "markdown",
      "metadata": {
        "id": "5-LciB4aqGZm"
      },
      "source": [
        "# 查看模型預測能力(還在測試)"
      ]
    },
    {
      "cell_type": "code",
      "metadata": {
        "id": "GC6njeV_p6eY",
        "colab": {
          "base_uri": "https://localhost:8080/",
          "height": 946
        },
        "outputId": "50a8af2a-8b6b-4f50-e870-848b2bf3222c"
      },
      "source": [
        "dog_probs = []\n",
        "model.eval()\n",
        "with torch.no_grad():\n",
        "    for data, fileid in test_loader:\n",
        "        data = data.to(device)\n",
        "        preds = model(data)\n",
        "        preds_list = F.softmax(preds, dim=1)[:, 1].tolist()\n",
        "        dog_probs += list(zip(list(fileid), preds_list))"
      ],
      "execution_count": 40,
      "outputs": [
        {
          "output_type": "stream",
          "text": [
            "ERROR:root:Internal Python error in the inspect module.\n",
            "Below is the traceback from this internal error.\n",
            "\n"
          ],
          "name": "stderr"
        },
        {
          "output_type": "stream",
          "text": [
            "Traceback (most recent call last):\n",
            "  File \"/usr/local/lib/python3.7/dist-packages/IPython/core/interactiveshell.py\", line 2882, in run_code\n",
            "    exec(code_obj, self.user_global_ns, self.user_ns)\n",
            "  File \"<ipython-input-40-1ba3f36db5ba>\", line 4, in <module>\n",
            "    for data, fileid in test_loader:\n",
            "  File \"/usr/local/lib/python3.7/dist-packages/torch/utils/data/dataloader.py\", line 363, in __next__\n",
            "    data = self._next_data()\n",
            "  File \"/usr/local/lib/python3.7/dist-packages/torch/utils/data/dataloader.py\", line 403, in _next_data\n",
            "    data = self._dataset_fetcher.fetch(index)  # may raise StopIteration\n",
            "  File \"/usr/local/lib/python3.7/dist-packages/torch/utils/data/_utils/fetch.py\", line 44, in fetch\n",
            "    data = [self.dataset[idx] for idx in possibly_batched_index]\n",
            "  File \"/usr/local/lib/python3.7/dist-packages/torch/utils/data/_utils/fetch.py\", line 44, in <listcomp>\n",
            "    data = [self.dataset[idx] for idx in possibly_batched_index]\n",
            "  File \"<ipython-input-21-96f7c8e08612>\", line 15, in __getitem__\n",
            "    img = Image.open(img_path)\n",
            "  File \"/usr/local/lib/python3.7/dist-packages/PIL/Image.py\", line 2843, in open\n",
            "    fp = builtins.open(filename, \"rb\")\n",
            "OSError: [Errno 107] Transport endpoint is not connected: '../data/val/2552.jpg'\n",
            "\n",
            "During handling of the above exception, another exception occurred:\n",
            "\n",
            "Traceback (most recent call last):\n",
            "  File \"/usr/local/lib/python3.7/dist-packages/IPython/core/interactiveshell.py\", line 1823, in showtraceback\n",
            "    stb = value._render_traceback_()\n",
            "AttributeError: 'OSError' object has no attribute '_render_traceback_'\n",
            "\n",
            "During handling of the above exception, another exception occurred:\n",
            "\n",
            "Traceback (most recent call last):\n",
            "  File \"/usr/local/lib/python3.7/dist-packages/IPython/core/ultratb.py\", line 1132, in get_records\n",
            "    return _fixed_getinnerframes(etb, number_of_lines_of_context, tb_offset)\n",
            "  File \"/usr/local/lib/python3.7/dist-packages/IPython/core/ultratb.py\", line 313, in wrapped\n",
            "    return f(*args, **kwargs)\n",
            "  File \"/usr/local/lib/python3.7/dist-packages/IPython/core/ultratb.py\", line 358, in _fixed_getinnerframes\n",
            "    records = fix_frame_records_filenames(inspect.getinnerframes(etb, context))\n",
            "  File \"/usr/lib/python3.7/inspect.py\", line 1502, in getinnerframes\n",
            "    frameinfo = (tb.tb_frame,) + getframeinfo(tb, context)\n",
            "  File \"/usr/lib/python3.7/inspect.py\", line 1460, in getframeinfo\n",
            "    filename = getsourcefile(frame) or getfile(frame)\n",
            "  File \"/usr/lib/python3.7/inspect.py\", line 696, in getsourcefile\n",
            "    if getattr(getmodule(object, filename), '__loader__', None) is not None:\n",
            "  File \"/usr/lib/python3.7/inspect.py\", line 725, in getmodule\n",
            "    file = getabsfile(object, _filename)\n",
            "  File \"/usr/lib/python3.7/inspect.py\", line 709, in getabsfile\n",
            "    return os.path.normcase(os.path.abspath(_filename))\n",
            "  File \"/usr/lib/python3.7/posixpath.py\", line 383, in abspath\n",
            "    cwd = os.getcwd()\n",
            "OSError: [Errno 107] Transport endpoint is not connected\n"
          ],
          "name": "stdout"
        },
        {
          "output_type": "error",
          "ename": "OSError",
          "evalue": "ignored",
          "traceback": [
            "\u001b[0;31m---------------------------------------------------------------------------\u001b[0m"
          ]
        }
      ]
    },
    {
      "cell_type": "code",
      "metadata": {
        "id": "5uutiHNUp8Jn",
        "colab": {
          "base_uri": "https://localhost:8080/"
        },
        "outputId": "4c17041b-e7a2-47f3-fcdd-f7f1fc01a289"
      },
      "source": [
        "dog_probs.sort(key = lambda x : int(x[0]))\n",
        "dog_probs"
      ],
      "execution_count": 42,
      "outputs": [
        {
          "output_type": "execute_result",
          "data": {
            "text/plain": [
              "[]"
            ]
          },
          "metadata": {
            "tags": []
          },
          "execution_count": 42
        }
      ]
    },
    {
      "cell_type": "code",
      "metadata": {
        "id": "mBBp-8mVuSeQ"
      },
      "source": [
        "idx = list(map(lambda x: x[0],dog_probs))\n",
        "prob = list(map(lambda x: x[1],dog_probs))"
      ],
      "execution_count": 43,
      "outputs": []
    },
    {
      "cell_type": "code",
      "metadata": {
        "colab": {
          "base_uri": "https://localhost:8080/",
          "height": 742
        },
        "id": "S7KxicSUuXS_",
        "outputId": "5f052c5c-dde1-4550-e5c3-bc123bc12f8e"
      },
      "source": [
        "submission = pd.DataFrame({'id':idx,'label':prob})"
      ],
      "execution_count": 44,
      "outputs": [
        {
          "output_type": "stream",
          "text": [
            "ERROR:root:Internal Python error in the inspect module.\n",
            "Below is the traceback from this internal error.\n",
            "\n"
          ],
          "name": "stderr"
        },
        {
          "output_type": "stream",
          "text": [
            "Traceback (most recent call last):\n",
            "  File \"/usr/local/lib/python3.7/dist-packages/IPython/core/interactiveshell.py\", line 2882, in run_code\n",
            "    exec(code_obj, self.user_global_ns, self.user_ns)\n",
            "  File \"<ipython-input-44-10ae6955e7ae>\", line 1, in <module>\n",
            "    submission = pd.DataFrame({'id':idx,'label':prob})\n",
            "NameError: name 'pd' is not defined\n",
            "\n",
            "During handling of the above exception, another exception occurred:\n",
            "\n",
            "Traceback (most recent call last):\n",
            "  File \"/usr/local/lib/python3.7/dist-packages/IPython/core/interactiveshell.py\", line 1823, in showtraceback\n",
            "    stb = value._render_traceback_()\n",
            "AttributeError: 'NameError' object has no attribute '_render_traceback_'\n",
            "\n",
            "During handling of the above exception, another exception occurred:\n",
            "\n",
            "Traceback (most recent call last):\n",
            "  File \"/usr/local/lib/python3.7/dist-packages/IPython/core/ultratb.py\", line 1132, in get_records\n",
            "    return _fixed_getinnerframes(etb, number_of_lines_of_context, tb_offset)\n",
            "  File \"/usr/local/lib/python3.7/dist-packages/IPython/core/ultratb.py\", line 313, in wrapped\n",
            "    return f(*args, **kwargs)\n",
            "  File \"/usr/local/lib/python3.7/dist-packages/IPython/core/ultratb.py\", line 358, in _fixed_getinnerframes\n",
            "    records = fix_frame_records_filenames(inspect.getinnerframes(etb, context))\n",
            "  File \"/usr/lib/python3.7/inspect.py\", line 1502, in getinnerframes\n",
            "    frameinfo = (tb.tb_frame,) + getframeinfo(tb, context)\n",
            "  File \"/usr/lib/python3.7/inspect.py\", line 1460, in getframeinfo\n",
            "    filename = getsourcefile(frame) or getfile(frame)\n",
            "  File \"/usr/lib/python3.7/inspect.py\", line 696, in getsourcefile\n",
            "    if getattr(getmodule(object, filename), '__loader__', None) is not None:\n",
            "  File \"/usr/lib/python3.7/inspect.py\", line 725, in getmodule\n",
            "    file = getabsfile(object, _filename)\n",
            "  File \"/usr/lib/python3.7/inspect.py\", line 709, in getabsfile\n",
            "    return os.path.normcase(os.path.abspath(_filename))\n",
            "  File \"/usr/lib/python3.7/posixpath.py\", line 383, in abspath\n",
            "    cwd = os.getcwd()\n",
            "OSError: [Errno 107] Transport endpoint is not connected\n"
          ],
          "name": "stdout"
        },
        {
          "output_type": "error",
          "ename": "NameError",
          "evalue": "ignored",
          "traceback": [
            "\u001b[0;31m---------------------------------------------------------------------------\u001b[0m"
          ]
        }
      ]
    },
    {
      "cell_type": "code",
      "metadata": {
        "colab": {
          "base_uri": "https://localhost:8080/",
          "height": 742
        },
        "id": "xNwy6B7bualQ",
        "outputId": "dd514cd7-718a-4738-8a76-d0d24097640c"
      },
      "source": [
        "submission.to_csv('result.csv',index=False)"
      ],
      "execution_count": 45,
      "outputs": [
        {
          "output_type": "stream",
          "text": [
            "ERROR:root:Internal Python error in the inspect module.\n",
            "Below is the traceback from this internal error.\n",
            "\n"
          ],
          "name": "stderr"
        },
        {
          "output_type": "stream",
          "text": [
            "Traceback (most recent call last):\n",
            "  File \"/usr/local/lib/python3.7/dist-packages/IPython/core/interactiveshell.py\", line 2882, in run_code\n",
            "    exec(code_obj, self.user_global_ns, self.user_ns)\n",
            "  File \"<ipython-input-45-70ab853bc090>\", line 1, in <module>\n",
            "    submission.to_csv('result.csv',index=False)\n",
            "NameError: name 'submission' is not defined\n",
            "\n",
            "During handling of the above exception, another exception occurred:\n",
            "\n",
            "Traceback (most recent call last):\n",
            "  File \"/usr/local/lib/python3.7/dist-packages/IPython/core/interactiveshell.py\", line 1823, in showtraceback\n",
            "    stb = value._render_traceback_()\n",
            "AttributeError: 'NameError' object has no attribute '_render_traceback_'\n",
            "\n",
            "During handling of the above exception, another exception occurred:\n",
            "\n",
            "Traceback (most recent call last):\n",
            "  File \"/usr/local/lib/python3.7/dist-packages/IPython/core/ultratb.py\", line 1132, in get_records\n",
            "    return _fixed_getinnerframes(etb, number_of_lines_of_context, tb_offset)\n",
            "  File \"/usr/local/lib/python3.7/dist-packages/IPython/core/ultratb.py\", line 313, in wrapped\n",
            "    return f(*args, **kwargs)\n",
            "  File \"/usr/local/lib/python3.7/dist-packages/IPython/core/ultratb.py\", line 358, in _fixed_getinnerframes\n",
            "    records = fix_frame_records_filenames(inspect.getinnerframes(etb, context))\n",
            "  File \"/usr/lib/python3.7/inspect.py\", line 1502, in getinnerframes\n",
            "    frameinfo = (tb.tb_frame,) + getframeinfo(tb, context)\n",
            "  File \"/usr/lib/python3.7/inspect.py\", line 1460, in getframeinfo\n",
            "    filename = getsourcefile(frame) or getfile(frame)\n",
            "  File \"/usr/lib/python3.7/inspect.py\", line 696, in getsourcefile\n",
            "    if getattr(getmodule(object, filename), '__loader__', None) is not None:\n",
            "  File \"/usr/lib/python3.7/inspect.py\", line 725, in getmodule\n",
            "    file = getabsfile(object, _filename)\n",
            "  File \"/usr/lib/python3.7/inspect.py\", line 709, in getabsfile\n",
            "    return os.path.normcase(os.path.abspath(_filename))\n",
            "  File \"/usr/lib/python3.7/posixpath.py\", line 383, in abspath\n",
            "    cwd = os.getcwd()\n",
            "OSError: [Errno 107] Transport endpoint is not connected\n"
          ],
          "name": "stdout"
        },
        {
          "output_type": "error",
          "ename": "NameError",
          "evalue": "ignored",
          "traceback": [
            "\u001b[0;31m---------------------------------------------------------------------------\u001b[0m"
          ]
        }
      ]
    },
    {
      "cell_type": "code",
      "metadata": {
        "id": "-B6zrxIJqFku",
        "colab": {
          "base_uri": "https://localhost:8080/",
          "height": 1000
        },
        "outputId": "c2876756-1d0a-431a-f2bb-3c40297ffb4b"
      },
      "source": [
        "import random\n",
        "\n",
        "id_list = []\n",
        "class_ = {0: 'cat', 1: 'dog'}\n",
        "\n",
        "fig, axes = plt.subplots(2, 5, figsize=(20, 12), facecolor='w')\n",
        "\n",
        "for ax in axes.ravel():\n",
        "    \n",
        "    i = random.choice(submission['id'].values)\n",
        "    \n",
        "    label = submission.loc[submission['id'] == i, 'label'].values[0]\n",
        "    if label > 0.5:\n",
        "        label = 1\n",
        "    else:\n",
        "        label = 0\n",
        "        \n",
        "    img_path = os.path.join(test_dir, '{}.jpg'.format(i))\n",
        "    img = Image.open(img_path)\n",
        "    \n",
        "    ax.set_title(class_[label])\n",
        "    ax.imshow(img)"
      ],
      "execution_count": 46,
      "outputs": [
        {
          "output_type": "stream",
          "text": [
            "ERROR:root:Internal Python error in the inspect module.\n",
            "Below is the traceback from this internal error.\n",
            "\n"
          ],
          "name": "stderr"
        },
        {
          "output_type": "stream",
          "text": [
            "Traceback (most recent call last):\n",
            "  File \"/usr/local/lib/python3.7/dist-packages/IPython/core/interactiveshell.py\", line 2882, in run_code\n",
            "    exec(code_obj, self.user_global_ns, self.user_ns)\n",
            "  File \"<ipython-input-46-8c43eab12f56>\", line 10, in <module>\n",
            "    i = random.choice(submission['id'].values)\n",
            "NameError: name 'submission' is not defined\n",
            "\n",
            "During handling of the above exception, another exception occurred:\n",
            "\n",
            "Traceback (most recent call last):\n",
            "  File \"/usr/local/lib/python3.7/dist-packages/IPython/core/interactiveshell.py\", line 1823, in showtraceback\n",
            "    stb = value._render_traceback_()\n",
            "AttributeError: 'NameError' object has no attribute '_render_traceback_'\n",
            "\n",
            "During handling of the above exception, another exception occurred:\n",
            "\n",
            "Traceback (most recent call last):\n",
            "  File \"/usr/local/lib/python3.7/dist-packages/IPython/core/ultratb.py\", line 1132, in get_records\n",
            "    return _fixed_getinnerframes(etb, number_of_lines_of_context, tb_offset)\n",
            "  File \"/usr/local/lib/python3.7/dist-packages/IPython/core/ultratb.py\", line 313, in wrapped\n",
            "    return f(*args, **kwargs)\n",
            "  File \"/usr/local/lib/python3.7/dist-packages/IPython/core/ultratb.py\", line 358, in _fixed_getinnerframes\n",
            "    records = fix_frame_records_filenames(inspect.getinnerframes(etb, context))\n",
            "  File \"/usr/lib/python3.7/inspect.py\", line 1502, in getinnerframes\n",
            "    frameinfo = (tb.tb_frame,) + getframeinfo(tb, context)\n",
            "  File \"/usr/lib/python3.7/inspect.py\", line 1460, in getframeinfo\n",
            "    filename = getsourcefile(frame) or getfile(frame)\n",
            "  File \"/usr/lib/python3.7/inspect.py\", line 696, in getsourcefile\n",
            "    if getattr(getmodule(object, filename), '__loader__', None) is not None:\n",
            "  File \"/usr/lib/python3.7/inspect.py\", line 725, in getmodule\n",
            "    file = getabsfile(object, _filename)\n",
            "  File \"/usr/lib/python3.7/inspect.py\", line 709, in getabsfile\n",
            "    return os.path.normcase(os.path.abspath(_filename))\n",
            "  File \"/usr/lib/python3.7/posixpath.py\", line 383, in abspath\n",
            "    cwd = os.getcwd()\n",
            "OSError: [Errno 107] Transport endpoint is not connected\n"
          ],
          "name": "stdout"
        },
        {
          "output_type": "error",
          "ename": "NameError",
          "evalue": "ignored",
          "traceback": [
            "\u001b[0;31m---------------------------------------------------------------------------\u001b[0m"
          ]
        },
        {
          "output_type": "display_data",
          "data": {
            "image/png": "[encoded data removed]",
            "text/plain": [
              "<Figure size 1440x864 with 10 Axes>"
            ]
          },
          "metadata": {
            "tags": []
          }
        }
      ]
    }
  ]
}