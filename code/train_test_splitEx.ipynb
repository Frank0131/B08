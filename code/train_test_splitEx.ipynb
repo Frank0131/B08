{
 "cells": [
  {
   "cell_type": "code",
   "execution_count": 1,
   "source": [
    "import json\n",
    "import numpy as np\n",
    "import os\n",
    "import time\n",
    "import cv2\n",
    "from typing import Any\n",
    "\n",
    "import torch\n",
    "import torch.nn as nn\n",
    "import torch.nn.functional as F\n",
    "import torch.optim as optim\n",
    "import yaml\n",
    "from torch.utils.data import DataLoader\n",
    "from torchvision import transforms\n",
    "from torchinfo import summary\n",
    "\n",
    "from GaborNet import GaborConv2d\n",
    "from dataset import DogsCatsDataset\n",
    "from dataset import JAFFEDataset\n",
    "from sklearn.model_selection import train_test_split\n",
    "import splitfolders\n"
   ],
   "outputs": [],
   "metadata": {}
  },
  {
   "cell_type": "code",
   "execution_count": 7,
   "source": [
    "train_dir = os.path.join(\"../jaffe\")\n",
    "train_list_file = os.listdir(train_dir)\n",
    "print(len(train_list_file))"
   ],
   "outputs": [
    {
     "output_type": "stream",
     "name": "stdout",
     "text": [
      "213\n"
     ]
    }
   ],
   "metadata": {}
  },
  {
   "cell_type": "code",
   "execution_count": 7,
   "source": [
    "print(train_list_file)"
   ],
   "outputs": [
    {
     "output_type": "stream",
     "name": "stdout",
     "text": [
      "['MK.AN3.127.tiff', 'MK.NE1.113.tiff', 'YM.AN3.63.tiff', 'MK.SA1.119.tiff', 'KA.SA.35.tiff', 'KM.FE.25.tiff', 'YM.NE2.50.tiff', 'TM.HA2.181.tiff', 'NA.FE2.218.tiff', 'YM.NE3.51.tiff', 'MK.DI1.128.tiff', 'YM.AN2.62.tiff', 'YM.HA2.53.tiff', 'NA.AN2.212.tiff', 'KM.SA5.13.tiff', 'UY.FE1.152.tiff', 'UY.AN2.147.tiff', 'KR.NE1.71.tiff', 'KL.SU.166.tiff', 'NA.HA3.204.tiff', 'KL.DI.170.tiff', 'KM.NE.1.tiff', 'KA.SU.38.tiff', 'KA.AN.41.tiff', 'TM.SA1.184.tiff', 'KA.AN.40.tiff', 'YM.DI3.66.tiff', 'TM.NE1.177.tiff', 'KR.HA2.75.tiff', 'UY.DI1.149.tiff', 'KL.DI.171.tiff', 'KM.SU3.16.tiff', 'NA.AN3.213.tiff', 'YM.FE2.68.tiff', 'KM.DI.22.tiff', 'NA.FE3.219.tiff', 'KR.SU3.82.tiff', 'NM.AN3.106.tiff', 'UY.NE3.136.tiff', 'YM.FE3.69.tiff', 'KM.FE.24.tiff', 'NA.DI2.215.tiff', 'KA.SA.34.tiff', 'MK.AN2.126.tiff', 'KA.NE.28.tiff', 'TM.AN2.191.tiff', 'YM.FE4.70.tiff', 'KL.FE.175.tiff', 'KL.AN.168.tiff', 'KM.HA.5.tiff', 'NM.AN1.104.tiff', 'KL.HA.159.tiff', 'NM.FE2.111.tiff', 'UY.NE1.134.tiff', 'MK.SA2.120.tiff', 'TM.NE3.179.tiff', 'KM.AN.19.tiff', 'KR.HA1.74.tiff', 'NA.SU2.209.tiff', 'KA.HA.30.tiff', 'NM.SA3.100.tiff', 'UY.DI3.151.tiff', 'NA.AN1.211.tiff', 'KM.SA1.9.tiff', 'YM.HA3.54.tiff', 'MK.HA2.117.tiff', 'KL.SA.161.tiff', 'KA.SA.33.tiff', 'UY.SU1.143.tiff', 'KM.FE.23.tiff', 'TM.FE2.197.tiff', 'NA.FE1.217.tiff', 'KA.FE.47.tiff', 'TM.SA3.186.tiff', 'KL.NE.156.tiff', 'KL.NE.157.tiff', 'KA.FE.46.tiff', 'MK.DI3.130.tiff', 'TM.DI1.193.tiff', 'UY.SA2.141.tiff', 'YM.HA1.52.tiff', 'KR.FE3.91.tiff', 'KR.FE2.90.tiff', 'KR.SA1.77.tiff', 'KA.HA.31.tiff', 'KM.SA3.11.tiff', 'UY.DI2.150.tiff', 'KM.AN.18.tiff', 'TM.NE2.178.tiff', 'YM.SA3.57.tiff', 'MK.SA3.121.tiff', 'KL.HA.158.tiff', 'YM.SA2.56.tiff', 'NA.HA2.203.tiff', 'MK.SU1.122.tiff', 'KL.AN.169.tiff', 'KM.HA.4.tiff', 'KL.FE.174.tiff', 'KM.NE3.3.tiff', 'KM.SA2.10.tiff', 'KR.DI3.88.tiff', 'MK.AN1.125.tiff', 'YM.SU3.60.tiff', 'NM.HA1.95.tiff', 'NM.NE2.93.tiff', 'KA.HA.32.tiff', 'YM.FE1.67.tiff', 'NM.DI3.109.tiff', 'TM.DI3.195.tiff', 'MK.DI2.129.tiff', 'TM.HA1.180.tiff', 'NM.SA1.98.tiff', 'KM.HA.7.tiff', 'UY.SU2.144.tiff', 'NM.SU1.101.tiff', 'YM.DI1.64.tiff', 'MK.FE3.133.tiff', 'KA.FE.45.tiff', 'KM.AN.17.tiff', 'UY.SA3.142.tiff', 'MK.SU3.124.tiff', 'KM.SU1.14.tiff', 'KL.SA.163.tiff', 'UY.FE2.153.tiff', 'UY.HA2.138.tiff', 'UY.AN1.146.tiff', 'KR.SU1.80.tiff', 'KA.DI.43.tiff', 'TM.SU1.187.tiff', 'NA.SA1.205.tiff', 'UY.HA3.139.tiff', 'KA.DI.42.tiff', 'KL.AN.167.tiff', 'KL.SA.162.tiff', 'KA.HA.29.tiff', 'NA.SU3.210.tiff', 'YM.AN1.61.tiff', 'TM.SA2.185.tiff', 'KR.DI2.87.tiff', 'KL.NE.155.tiff', 'MK.FE2.132.tiff', 'TM.AN3.192.tiff', 'KR.NE2.72.tiff', 'NA.DI1.214.tiff', 'UY.SU3.145.tiff', 'KL.FE.176.tiff', 'KM.HA.6.tiff', 'MK.HA3.118.tiff', 'TM.FE3.198.tiff', 'YM.SU2.59.tiff', 'YM.NE1.49.tiff', 'NM.FE3.112.tiff', 'TM.DI2.194.tiff', 'KL.HA.160.tiff', 'KR.NE3.73.tiff', 'KA.FE.48.tiff', 'NA.SU1.208.tiff', 'KA.SU.36.tiff', 'KR.DI1.86.tiff', 'NM.AN2.105.tiff', 'NM.FE1.110.tiff', 'UY.NE2.135.tiff', 'NA.DI3.216.tiff', 'NA.NE3.201.tiff', 'UY.HA1.137.tiff', 'TM.SU2.188.tiff', 'NA.NE1.199.tiff', 'TM.AN1.190.tiff', 'NM.SU2.102.tiff', 'KR.SA3.79.tiff', 'NM.HA3.97.tiff', 'KR.AN3.85.tiff', 'KL.DI.172.tiff', 'NM.HA2.96.tiff', 'TM.FE1.196.tiff', 'KL.SU.164.tiff', 'MK.HA1.116.tiff', 'KR.FE1.89.tiff', 'KR.AN2.84.tiff', 'NM.NE3.94.tiff', 'KR.SA2.78.tiff', 'NA.SA3.207.tiff', 'MK.NE2.114.tiff', 'KA.NE.27.tiff', 'YM.SA1.55.tiff', 'KM.NE2.2.tiff', 'YM.SU1.58.tiff', 'KA.NE.26.tiff', 'NA.SA2.206.tiff', 'MK.NE3.115.tiff', 'KA.AN.39.tiff', 'KR.AN1.83.tiff', 'KL.SU.165.tiff', 'YM.DI2.65.tiff', 'KL.DI.173.tiff', 'NM.NE1.92.tiff', 'UY.SA1.140.tiff', 'NM.DI1.107.tiff', 'NM.SA2.99.tiff', 'NM.SU3.103.tiff', 'TM.SU3.189.tiff', 'MK.FE1.131.tiff', 'KA.DI.44.tiff', 'NA.NE2.200.tiff', 'UY.AN3.148.tiff', 'KM.SU2.15.tiff', 'UY.FE3.154.tiff', 'KR.SU2.81.tiff', 'NA.HA1.202.tiff', 'MK.SU2.123.tiff', 'TM.HA3.182.tiff', 'KM.DI.20.tiff', 'KA.SU.37.tiff']\n"
     ]
    }
   ],
   "metadata": {}
  },
  {
   "cell_type": "code",
   "execution_count": 8,
   "source": [
    "train_set_tiff, test_set_tiff = train_test_split(train_list_file, random_state=123, test_size=0.1)\n",
    "print(len(train_set_tiff), len(test_set_tiff))"
   ],
   "outputs": [
    {
     "output_type": "stream",
     "name": "stdout",
     "text": [
      "191 22\n"
     ]
    }
   ],
   "metadata": {}
  },
  {
   "cell_type": "code",
   "execution_count": 9,
   "source": [
    "print(train_set_tiff)"
   ],
   "outputs": [
    {
     "output_type": "stream",
     "name": "stdout",
     "text": [
      "['KA.SA.35.tiff', 'TM.DI3.195.tiff', 'NM.AN2.105.tiff', 'KM.NE.1.tiff', 'KL.HA.158.tiff', 'NM.HA2.96.tiff', 'NM.FE1.110.tiff', 'NM.SA2.99.tiff', 'KA.DI.43.tiff', 'UY.NE1.134.tiff', 'YM.SA1.55.tiff', 'TM.SU2.188.tiff', 'NA.SA2.206.tiff', 'KL.SU.165.tiff', 'MK.DI1.128.tiff', 'NA.FE1.217.tiff', 'YM.HA1.52.tiff', 'YM.DI3.66.tiff', 'YM.AN2.62.tiff', 'UY.AN1.146.tiff', 'NA.NE3.201.tiff', 'TM.SU1.187.tiff', 'UY.SA3.142.tiff', 'KL.AN.167.tiff', 'KR.AN1.83.tiff', 'KM.HA.7.tiff', 'NA.AN1.211.tiff', 'KR.NE2.72.tiff', 'KA.NE.26.tiff', 'NM.AN3.106.tiff', 'NM.AN1.104.tiff', 'YM.SA3.57.tiff', 'NM.DI3.109.tiff', 'MK.FE3.133.tiff', 'NA.NE1.199.tiff', 'TM.SA1.184.tiff', 'KL.NE.155.tiff', 'UY.HA3.139.tiff', 'YM.FE2.68.tiff', 'KA.AN.41.tiff', 'TM.SA2.185.tiff', 'MK.FE1.131.tiff', 'NA.DI2.215.tiff', 'KL.DI.172.tiff', 'KM.SA3.11.tiff', 'KR.FE3.91.tiff', 'NA.HA2.203.tiff', 'KR.DI3.88.tiff', 'MK.DI3.130.tiff', 'KR.FE2.90.tiff', 'TM.NE2.178.tiff', 'YM.SU2.59.tiff', 'NA.FE2.218.tiff', 'UY.NE2.135.tiff', 'UY.SA2.141.tiff', 'MK.HA3.118.tiff', 'KR.SU3.82.tiff', 'KM.SA1.9.tiff', 'KR.HA2.75.tiff', 'NA.AN2.212.tiff', 'KL.SA.163.tiff', 'MK.SA3.121.tiff', 'MK.FE2.132.tiff', 'KA.NE.28.tiff', 'TM.DI2.194.tiff', 'KR.SA3.79.tiff', 'UY.SA1.140.tiff', 'NM.SA3.100.tiff', 'TM.HA2.181.tiff', 'KL.DI.171.tiff', 'KA.AN.39.tiff', 'KR.FE1.89.tiff', 'TM.AN3.192.tiff', 'UY.DI1.149.tiff', 'NA.FE3.219.tiff', 'MK.AN3.127.tiff', 'UY.SU3.145.tiff', 'TM.AN2.191.tiff', 'KR.DI1.86.tiff', 'KM.FE.24.tiff', 'KA.HA.30.tiff', 'KA.SU.36.tiff', 'YM.FE4.70.tiff', 'YM.AN1.61.tiff', 'NM.NE2.93.tiff', 'KM.FE.25.tiff', 'UY.AN2.147.tiff', 'KR.NE3.73.tiff', 'MK.NE2.114.tiff', 'MK.HA2.117.tiff', 'KA.DI.44.tiff', 'KR.AN2.84.tiff', 'KL.NE.156.tiff', 'TM.HA1.180.tiff', 'UY.DI3.151.tiff', 'NA.HA1.202.tiff', 'UY.NE3.136.tiff', 'TM.NE1.177.tiff', 'MK.SA2.120.tiff', 'NA.DI1.214.tiff', 'NA.SU1.208.tiff', 'KM.SU1.14.tiff', 'KL.DI.173.tiff', 'KL.SU.164.tiff', 'NM.FE3.112.tiff', 'KM.AN.18.tiff', 'YM.NE3.51.tiff', 'YM.NE2.50.tiff', 'TM.AN1.190.tiff', 'KR.SA2.78.tiff', 'MK.SU2.123.tiff', 'YM.NE1.49.tiff', 'KA.SA.33.tiff', 'MK.SA1.119.tiff', 'UY.DI2.150.tiff', 'KL.FE.176.tiff', 'KL.AN.168.tiff', 'KA.FE.45.tiff', 'KL.HA.159.tiff', 'MK.NE1.113.tiff', 'KL.SU.166.tiff', 'YM.HA2.53.tiff', 'MK.NE3.115.tiff', 'KM.AN.19.tiff', 'KA.AN.40.tiff', 'MK.AN1.125.tiff', 'MK.AN2.126.tiff', 'NA.SA1.205.tiff', 'NM.HA1.95.tiff', 'KM.SA5.13.tiff', 'KA.HA.29.tiff', 'YM.DI1.64.tiff', 'KA.SU.37.tiff', 'TM.FE2.197.tiff', 'KR.AN3.85.tiff', 'UY.FE1.152.tiff', 'KM.HA.6.tiff', 'KA.SU.38.tiff', 'KR.DI2.87.tiff', 'NA.SU2.209.tiff', 'NA.DI3.216.tiff', 'KL.NE.157.tiff', 'YM.HA3.54.tiff', 'KM.FE.23.tiff', 'UY.FE3.154.tiff', 'KA.DI.42.tiff', 'NM.SU2.102.tiff', 'KA.FE.46.tiff', 'KM.DI.22.tiff', 'KA.FE.48.tiff', 'MK.SU1.122.tiff', 'KM.AN.17.tiff', 'KL.FE.174.tiff', 'YM.SU3.60.tiff', 'YM.SA2.56.tiff', 'UY.HA2.138.tiff', 'KM.SA2.10.tiff', 'KA.HA.32.tiff', 'NA.SU3.210.tiff', 'MK.HA1.116.tiff', 'TM.SU3.189.tiff', 'YM.SU1.58.tiff', 'TM.HA3.182.tiff', 'YM.FE3.69.tiff', 'KA.HA.31.tiff', 'YM.AN3.63.tiff', 'TM.NE3.179.tiff', 'KM.HA.5.tiff', 'UY.SU1.143.tiff', 'NA.NE2.200.tiff', 'UY.HA1.137.tiff', 'TM.DI1.193.tiff', 'KR.SU2.81.tiff', 'KL.HA.160.tiff', 'NM.SA1.98.tiff', 'TM.FE1.196.tiff', 'NA.AN3.213.tiff', 'TM.SA3.186.tiff', 'KL.FE.175.tiff', 'KM.DI.20.tiff', 'UY.SU2.144.tiff', 'KM.HA.4.tiff', 'KR.HA1.74.tiff', 'UY.FE2.153.tiff', 'YM.FE1.67.tiff', 'KR.SA1.77.tiff', 'KR.NE1.71.tiff', 'KM.NE3.3.tiff', 'KL.SA.161.tiff', 'KR.SU1.80.tiff', 'MK.DI2.129.tiff']\n"
     ]
    }
   ],
   "metadata": {}
  },
  {
   "cell_type": "code",
   "execution_count": 10,
   "source": [
    "print(test_set_tiff)"
   ],
   "outputs": [
    {
     "output_type": "stream",
     "name": "stdout",
     "text": [
      "['NA.SA3.207.tiff', 'NM.NE3.94.tiff', 'KM.NE2.2.tiff', 'KL.SA.162.tiff', 'YM.DI2.65.tiff', 'NM.SU3.103.tiff', 'NM.SU1.101.tiff', 'NM.DI1.107.tiff', 'KL.AN.169.tiff', 'KM.SU3.16.tiff', 'KA.SA.34.tiff', 'KA.NE.27.tiff', 'NM.NE1.92.tiff', 'KM.SU2.15.tiff', 'NA.HA3.204.tiff', 'KA.FE.47.tiff', 'KL.DI.170.tiff', 'NM.FE2.111.tiff', 'TM.FE3.198.tiff', 'NM.HA3.97.tiff', 'MK.SU3.124.tiff', 'UY.AN3.148.tiff']\n"
     ]
    }
   ],
   "metadata": {}
  },
  {
   "cell_type": "code",
   "execution_count": 11,
   "source": [
    "angry=disgust=fear=happy=sad=suspecious=neutral = 0\n",
    "\n",
    "for data in test_set_tiff:\n",
    "    if 'AN' in data:\n",
    "        angry+=1\n",
    "    elif 'DI' in data:\n",
    "        disgust+=1\n",
    "    elif 'FE' in data:\n",
    "        fear+=1\n",
    "    elif 'HA' in data:\n",
    "        happy+=1\n",
    "    elif 'SA' in data:\n",
    "        sad+=1\n",
    "    elif 'SU' in data:\n",
    "        suspecious+=1\n",
    "    elif 'NE' in data:\n",
    "        neutral+=1\n",
    "    \n",
    "print(angry, disgust, fear, happy, sad, suspecious, neutral)"
   ],
   "outputs": [
    {
     "output_type": "stream",
     "name": "stdout",
     "text": [
      "2 3 3 2 3 5 4\n"
     ]
    }
   ],
   "metadata": {}
  },
  {
   "cell_type": "code",
   "execution_count": 12,
   "source": [
    "angry=disgust=fear=happy=sad=suspecious=neutral = 0\n",
    "\n",
    "#counter_dict = {'AN':0, 'DI':0, 'FE':0, 'HA':0, 'SA':0, 'SU':0, 'NE':0 }\n",
    "for data in train_set_tiff:\n",
    "    if 'AN' in data:\n",
    "        angry+=1\n",
    "    elif 'DI' in data:\n",
    "        disgust+=1\n",
    "    elif 'FE' in data:\n",
    "        fear+=1\n",
    "    elif 'HA' in data:\n",
    "        happy+=1\n",
    "    elif 'SA' in data:\n",
    "        sad+=1\n",
    "    elif 'SU' in data:\n",
    "        suspecious+=1\n",
    "    elif 'NE' in data:\n",
    "        neutral+=1\n",
    "    \n",
    "print(angry, disgust, fear, happy, sad, suspecious, neutral)"
   ],
   "outputs": [
    {
     "output_type": "stream",
     "name": "stdout",
     "text": [
      "28 26 29 29 28 25 26\n"
     ]
    }
   ],
   "metadata": {}
  }
 ],
 "metadata": {
  "orig_nbformat": 4,
  "language_info": {
   "name": "python",
   "version": "3.8.9",
   "mimetype": "text/x-python",
   "codemirror_mode": {
    "name": "ipython",
    "version": 3
   },
   "pygments_lexer": "ipython3",
   "nbconvert_exporter": "python",
   "file_extension": ".py"
  },
  "kernelspec": {
   "name": "python3",
   "display_name": "Python 3.8.9 64-bit"
  },
  "interpreter": {
   "hash": "0adcc2737ebf6a4a119f135174df96668767fca1ef1112612db5ecadf2b6d608"
  }
 },
 "nbformat": 4,
 "nbformat_minor": 2
}